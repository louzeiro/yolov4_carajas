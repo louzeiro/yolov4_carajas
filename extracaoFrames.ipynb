{
 "cells": [
  {
   "cell_type": "markdown",
   "metadata": {},
   "source": [
    "# Notebook utilizado na extração dos frames"
   ]
  },
  {
   "cell_type": "markdown",
   "metadata": {},
   "source": [
    "### Instalação das bibliotecas"
   ]
  },
  {
   "cell_type": "code",
   "execution_count": 4,
   "metadata": {},
   "outputs": [],
   "source": [
    "!pip install opencv-python==4.4.0.40"
   ]
  },
  {
   "cell_type": "markdown",
   "metadata": {},
   "source": [
    "### Carregamento das bibliotecas"
   ]
  },
  {
   "cell_type": "code",
   "execution_count": 2,
   "metadata": {},
   "outputs": [],
   "source": [
    "import os\n",
    "import cv2"
   ]
  },
  {
   "cell_type": "markdown",
   "metadata": {},
   "source": [
    "### Carregamento do video"
   ]
  },
  {
   "cell_type": "code",
   "execution_count": 28,
   "metadata": {},
   "outputs": [
    {
     "name": "stdout",
     "output_type": "stream",
     "text": [
      "O video foi carrregado com Sucesso!\n"
     ]
    }
   ],
   "source": [
    "pastaVideo = 'pasta_dos_videos/'\n",
    "nomeVideo = 'video1.mp4'\n",
    "caminhoVideo = os.path.sep.join([pastaVideo,nomeVideo])\n",
    "vidcap = cv2.VideoCapture(caminhoVideo)\n",
    "success, image = vidcap.read()\n",
    "\n",
    "if (success):\n",
    "    print(\"O video foi carrregado com Sucesso!\")\n",
    "else:\n",
    "    print(\"O vídeo não foi carregado. Favor verificar o caminho do video.\")\n",
    "        "
   ]
  },
  {
   "cell_type": "markdown",
   "metadata": {},
   "source": [
    "### Extraindo os frames"
   ]
  },
  {
   "cell_type": "code",
   "execution_count": 29,
   "metadata": {},
   "outputs": [
    {
     "name": "stdout",
     "output_type": "stream",
     "text": [
      "Frames Extraidos\n"
     ]
    }
   ],
   "source": [
    "count = 0\n",
    "while success:\n",
    "    cv2.imwrite(nomeVideo+'_%d.jpg' % count, image)  \n",
    "    success, image = vidcap.read()\n",
    "    count += 1\n",
    "    \n",
    "    if not (success):                           \n",
    "        print('Frames Extraidos')\n",
    "    "
   ]
  },
  {
   "cell_type": "markdown",
   "metadata": {},
   "source": [
    "### Movendo os frames para uma pasta "
   ]
  },
  {
   "cell_type": "code",
   "execution_count": 37,
   "metadata": {},
   "outputs": [],
   "source": [
    "%mkdir framesGerados\n",
    "mv *.jpg framesGerados"
   ]
  },
  {
   "cell_type": "markdown",
   "metadata": {},
   "source": [
    "Para fazer a anotação manual utilizou-se a ferramenta **labelImg**"
   ]
  }
 ],
 "metadata": {
  "kernelspec": {
   "display_name": "Python 3",
   "language": "python",
   "name": "python3"
  },
  "language_info": {
   "codemirror_mode": {
    "name": "ipython",
    "version": 3
   },
   "file_extension": ".py",
   "mimetype": "text/x-python",
   "name": "python",
   "nbconvert_exporter": "python",
   "pygments_lexer": "ipython3",
   "version": "3.8.5"
  }
 },
 "nbformat": 4,
 "nbformat_minor": 4
}
